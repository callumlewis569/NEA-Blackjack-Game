{
 "cells": [
  {
   "cell_type": "markdown",
   "metadata": {},
   "source": [
    "# Cards"
   ]
  },
  {
   "cell_type": "markdown",
   "metadata": {},
   "source": [
    "Creates a class of cards with various methods needed to play blackjack"
   ]
  },
  {
   "cell_type": "code",
   "execution_count": 1,
   "metadata": {},
   "outputs": [],
   "source": [
    "from random import shuffle"
   ]
  },
  {
   "cell_type": "code",
   "execution_count": 2,
   "metadata": {},
   "outputs": [],
   "source": [
    "class Cards:\n",
    "    def __init__(self, decks):\n",
    "        suits = [\"♣\", \"♦\", \"♥\", \"♠\"]\n",
    "        ranks = [\"A\", \"2\", \"3\", \"4\", \"5\", \"6\", \"7\", \"8\", \"9\", \"10\", \"J\", \"Q\", \"K\"]\n",
    "        deck = []\n",
    "\n",
    "        for i in range(0, decks):\n",
    "            for suit in suits:\n",
    "                for rank in ranks:\n",
    "                    deck.append(f\"{rank}{suit}\")\n",
    "                    \n",
    "        self.shoe = deck\n",
    "    \n",
    "    def shuffleDeck(self):\n",
    "        shuffle(self.shoe)\n",
    "    \n",
    "    def displayDeck(self):\n",
    "        count = 0\n",
    "        for card in self.shoe:\n",
    "            print(card, end=\" \")\n",
    "            count += 1\n",
    "            if count == 13:\n",
    "                print(\"\\n\")\n",
    "                count = 0\n",
    "    \n",
    "    def hit(self):\n",
    "        card = self.shoe[-1]\n",
    "        self.shoe = self.shoe[:-1]\n",
    "        print(card)"
   ]
  },
  {
   "cell_type": "code",
   "execution_count": 3,
   "metadata": {},
   "outputs": [
    {
     "name": "stdout",
     "output_type": "stream",
     "text": [
      "A♣ 2♣ 3♣ 4♣ 5♣ 6♣ 7♣ 8♣ 9♣ 10♣ J♣ Q♣ K♣ \n",
      "\n",
      "A♦ 2♦ 3♦ 4♦ 5♦ 6♦ 7♦ 8♦ 9♦ 10♦ J♦ Q♦ K♦ \n",
      "\n",
      "A♥ 2♥ 3♥ 4♥ 5♥ 6♥ 7♥ 8♥ 9♥ 10♥ J♥ Q♥ K♥ \n",
      "\n",
      "A♠ 2♠ 3♠ 4♠ 5♠ 6♠ 7♠ 8♠ 9♠ 10♠ J♠ Q♠ K♠ \n",
      "\n",
      "A♣ 2♣ 3♣ 4♣ 5♣ 6♣ 7♣ 8♣ 9♣ 10♣ J♣ Q♣ K♣ \n",
      "\n",
      "A♦ 2♦ 3♦ 4♦ 5♦ 6♦ 7♦ 8♦ 9♦ 10♦ J♦ Q♦ K♦ \n",
      "\n",
      "A♥ 2♥ 3♥ 4♥ 5♥ 6♥ 7♥ 8♥ 9♥ 10♥ J♥ Q♥ K♥ \n",
      "\n",
      "A♠ 2♠ 3♠ 4♠ 5♠ 6♠ 7♠ 8♠ 9♠ 10♠ J♠ Q♠ K♠ \n",
      "\n"
     ]
    }
   ],
   "source": [
    "shoe = Cards(2)\n",
    "shoe.displayDeck()"
   ]
  },
  {
   "cell_type": "code",
   "execution_count": 4,
   "metadata": {},
   "outputs": [
    {
     "name": "stdout",
     "output_type": "stream",
     "text": [
      "Q♥ 7♥ A♦ 4♣ 6♣ J♣ 2♣ J♥ K♠ 6♠ 3♠ J♣ 10♠ \n",
      "\n",
      "5♥ 9♣ K♦ 9♦ 7♦ 9♥ J♦ 6♠ 10♦ 3♠ K♥ J♠ 6♦ \n",
      "\n",
      "J♠ 3♣ 4♥ 2♣ 7♠ 10♦ 5♥ 6♥ K♣ 10♣ 7♣ 7♥ 7♣ \n",
      "\n",
      "6♥ 8♠ Q♥ 3♦ 7♠ Q♠ A♠ 8♠ 4♥ 4♣ 8♥ 5♣ 5♠ \n",
      "\n",
      "2♠ 10♥ 6♦ 8♦ 3♦ 8♣ 8♣ 10♣ 9♥ A♣ 7♦ K♦ 3♥ \n",
      "\n",
      "Q♦ Q♣ 3♣ Q♣ 4♦ 2♥ 4♠ 10♥ 2♠ Q♦ 5♦ A♦ 10♠ \n",
      "\n",
      "2♥ J♥ 9♦ K♠ A♣ A♥ 9♠ 9♠ 8♥ 9♣ K♥ 3♥ A♠ \n",
      "\n",
      "6♣ 5♠ 4♠ 8♦ 5♦ 4♦ 5♣ K♣ 2♦ 2♦ A♥ Q♠ J♦ \n",
      "\n",
      "J♦\n",
      "Q♠\n",
      "A♥\n",
      "2♦\n",
      "2♦\n",
      "K♣\n",
      "5♣\n",
      "4♦\n",
      "5♦\n",
      "8♦\n",
      "4♠\n",
      "5♠\n",
      "6♣\n",
      "A♠\n",
      "3♥\n",
      "K♥\n",
      "9♣\n",
      "8♥\n",
      "9♠\n",
      "9♠\n",
      "Q♥ 7♥ A♦ 4♣ 6♣ J♣ 2♣ J♥ K♠ 6♠ 3♠ J♣ 10♠ \n",
      "\n",
      "5♥ 9♣ K♦ 9♦ 7♦ 9♥ J♦ 6♠ 10♦ 3♠ K♥ J♠ 6♦ \n",
      "\n",
      "J♠ 3♣ 4♥ 2♣ 7♠ 10♦ 5♥ 6♥ K♣ 10♣ 7♣ 7♥ 7♣ \n",
      "\n",
      "6♥ 8♠ Q♥ 3♦ 7♠ Q♠ A♠ 8♠ 4♥ 4♣ 8♥ 5♣ 5♠ \n",
      "\n",
      "2♠ 10♥ 6♦ 8♦ 3♦ 8♣ 8♣ 10♣ 9♥ A♣ 7♦ K♦ 3♥ \n",
      "\n",
      "Q♦ Q♣ 3♣ Q♣ 4♦ 2♥ 4♠ 10♥ 2♠ Q♦ 5♦ A♦ 10♠ \n",
      "\n",
      "2♥ J♥ 9♦ K♠ A♣ A♥ "
     ]
    }
   ],
   "source": [
    "shoe.shuffleDeck()\n",
    "shoe.displayDeck()\n",
    "for i in range(0, 20):\n",
    "    shoe.hit()\n",
    "shoe.displayDeck()"
   ]
  },
  {
   "cell_type": "markdown",
   "metadata": {},
   "source": [
    "This is an example function to display how to format google docstrings"
   ]
  },
  {
   "cell_type": "code",
   "execution_count": 5,
   "metadata": {},
   "outputs": [],
   "source": [
    "def function_name(param1, param2):\n",
    "    \"\"\"\n",
    "    Description of the function.\n",
    "\n",
    "    Args:\n",
    "        param1 (type): Description of the first parameter.\n",
    "        param2 (type): Description of the second parameter.\n",
    "\n",
    "    Returns:\n",
    "        return_type: Description of the return value(s).\n",
    "\n",
    "    Raises:\n",
    "        ExceptionType: Description of the exceptions raised (if any).\n",
    "\n",
    "    Example:\n",
    "        Provide an example of how to use the function.\n",
    "\n",
    "    See Also:\n",
    "        Any related functions or resources.\n",
    "\n",
    "    Note:\n",
    "        Any additional notes or important information.\n",
    "    \"\"\"\n",
    "    # Function implementation here\n",
    "    pass"
   ]
  }
 ],
 "metadata": {
  "kernelspec": {
   "display_name": "Python 3",
   "language": "python",
   "name": "python3"
  },
  "language_info": {
   "codemirror_mode": {
    "name": "ipython",
    "version": 3
   },
   "file_extension": ".py",
   "mimetype": "text/x-python",
   "name": "python",
   "nbconvert_exporter": "python",
   "pygments_lexer": "ipython3",
   "version": "3.11.5"
  },
  "orig_nbformat": 4
 },
 "nbformat": 4,
 "nbformat_minor": 2
}
